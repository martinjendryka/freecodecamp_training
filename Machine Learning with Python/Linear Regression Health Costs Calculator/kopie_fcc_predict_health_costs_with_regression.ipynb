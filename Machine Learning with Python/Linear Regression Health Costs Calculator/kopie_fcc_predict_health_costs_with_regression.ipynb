{
  "cells": [
    {
      "cell_type": "markdown",
      "source": [
        "In this challenge, you will predict healthcare costs using a regression algorithm.\n",
        "\n",
        "You are given a dataset that contains information about different people including their healthcare costs. Use the data to predict healthcare costs based on new data.\n",
        "\n",
        "The first two cells of this notebook import libraries and the data."
      ],
      "metadata": {
        "id": "t3-Em0oZC318"
      }
    },
    {
      "cell_type": "code",
      "execution_count": null,
      "metadata": {
        "id": "1rRo8oNqZ-Rj"
      },
      "outputs": [],
      "source": [
        "# Import libraries. You may or may not use all of these.\n",
        "!pip install -q git+https://github.com/tensorflow/docs\n",
        "import matplotlib.pyplot as plt\n",
        "import numpy as np\n",
        "import pandas as pd\n",
        "import seaborn as sns\n",
        "try:\n",
        "  %tensorflow_version only exists in Colab.\n",
        "  %tensorflow_version 2.x\n",
        "except Exception:\n",
        "  pass\n",
        "import tensorflow as tf\n",
        "\n",
        "from tensorflow import keras\n",
        "from tensorflow.keras import layers\n",
        "\n",
        "import tensorflow_docs as tfdocs\n",
        "import tensorflow_docs.plots\n",
        "import tensorflow_docs.modeling\n",
        "from sklearn.linear_model import LinearRegression"
      ]
    },
    {
      "cell_type": "code",
      "execution_count": null,
      "metadata": {
        "id": "CiX2FI4gZtTt"
      },
      "outputs": [],
      "source": [
        "# Import data\n",
        "!wget https://cdn.freecodecamp.org/project-data/health-costs/insurance.csv\n",
        "dataset = pd.read_csv('insurance.csv')\n",
        "display(dataset.isna().sum()) # check for nan values"
      ]
    },
    {
      "cell_type": "code",
      "source": [
        "# Explore the data (Interesting Questions)\n",
        "# What is the difference in BMI, smoker, children and age between male and females? (make a hist/bar plots with 4 subplots)\n",
        "# How does BMI and being smoker affect the expenses? Different for male and females?\n",
        "# how does the region influence the expenses?"
      ],
      "metadata": {
        "id": "fmGoFnVJJdlG"
      },
      "execution_count": null,
      "outputs": []
    },
    {
      "cell_type": "markdown",
      "source": [
        "Make sure to convert categorical data to numbers. Use 80% of the data as the train_dataset and 20% of the data as the test_dataset.\n",
        "pop off the \"expenses\" column from these datasets to create new datasets called train_labels and test_labels. Use these labels when training your model."
      ],
      "metadata": {
        "id": "V5vzkL0TDXsD"
      }
    },
    {
      "cell_type": "code",
      "source": [
        "categorical_col = ['sex','smoker','region']\n",
        "numeric_col = ['age','bmi','children']\n",
        "for col in categorical_col:\n",
        "  dataset[col] = dataset[col].astype('category')\n",
        "\n",
        "# one-hot encode categorical columns\n",
        "dataset = pd.get_dummies(dataset, columns=['sex'], prefix='', prefix_sep='')\n",
        "dataset = pd.get_dummies(dataset, columns=['smoker'], prefix='smoker_', prefix_sep='')\n",
        "dataset = pd.get_dummies(dataset, columns=['region'], prefix='', prefix_sep='')\n",
        "\n",
        "# train\n",
        "train_dataset = dataset.sample(frac=0.8, random_state=0)\n",
        "test_dataset = dataset.drop(train_dataset.index)\n",
        "\n",
        "# pop_off expenses columns , used as labels\n",
        "train_labels = train_dataset.pop('expenses')\n",
        "test_labels = test_dataset.pop('expenses')\n",
        "\n",
        "# normalize numerical columns\n",
        "normalizer = layers.Normalization()\n",
        "normalizer.adapt(train_dataset[numeric_col])"
      ],
      "metadata": {
        "id": "NPdh3uC4DJmn"
      },
      "execution_count": null,
      "outputs": []
    },
    {
      "cell_type": "markdown",
      "source": [
        "Create a model and train it with the train_dataset."
      ],
      "metadata": {
        "id": "CbCNCzyLQ7BF"
      }
    },
    {
      "cell_type": "code",
      "source": [
        "numfeatures = train_dataset.shape[1]\n",
        "model = keras.Sequential([\n",
        "    layers.Normalization(),\n",
        "    layers.Dense(64, activation='relu'),\n",
        "    layers.Dropout(0.2),\n",
        "    layers.Dense(1, activation='linear')\n",
        "])\n",
        "\n",
        "model.compile(optimizer=tf.keras.optimizers.Adam(learning_rate=0.1),\n",
        "  loss='mean_absolute_error',metrics=['mae','mse'])\n",
        "\n",
        "# create a linear regression model with train_dataset\n",
        "history = model.fit(train_dataset,\n",
        "   train_labels, epochs=100,verbose=0) # from 3000 epochs the loss doesnt get lower\n",
        "    #validation_split = 0.2)\n",
        "\n",
        "def plot_loss(history):\n",
        "  plt.plot(history.history['loss'], label='loss')\n",
        "  #plt.plot(history.history['val_loss'], label='val_loss')\n",
        "  #plt.ylim([0, 10])\n",
        "  plt.xlabel('Epoch')\n",
        "  plt.ylabel('Mean absolute error [expenses]')\n",
        "  plt.legend()\n",
        "  plt.grid(True)\n",
        "plot_loss(history)"
      ],
      "metadata": {
        "id": "1rPCuHdULT6e"
      },
      "execution_count": null,
      "outputs": []
    },
    {
      "cell_type": "markdown",
      "source": [
        "Run the final cell in this notebook to check your model. The final cell will use the unseen test_dataset to check how well the model generalizes.\n",
        "To pass the challenge, model.evaluate must return a Mean Absolute Error of under 3500. This means it predicts health care costs correctly within $3500.\n",
        "\n",
        "The final cell will also predict expenses using the test_dataset and graph the results."
      ],
      "metadata": {
        "id": "JMqsbGlBDGAY"
      }
    },
    {
      "cell_type": "code",
      "execution_count": null,
      "metadata": {
        "id": "Xe7RXH3N3CWU"
      },
      "outputs": [],
      "source": [
        "# RUN THIS CELL TO TEST YOUR MODEL. DO NOT MODIFY CONTENTS.\n",
        "# Test model by checking how well the model generalizes using the test set.\n",
        "loss, mae, mse = model.evaluate(test_dataset, test_labels, verbose=2)\n",
        "\n",
        "print(\"Testing set Mean Abs Error: {:5.2f} expenses\".format(mae))\n",
        "\n",
        "if mae < 3500:\n",
        "  print(\"You passed the challenge. Great job!\")\n",
        "else:\n",
        "  print(\"The Mean Abs Error must be less than 3500. Keep trying.\")\n",
        "\n",
        "# Plot predictions.\n",
        "test_predictions = model.predict(test_dataset).flatten()\n",
        "\n",
        "a = plt.axes(aspect='equal')\n",
        "plt.scatter(test_labels, test_predictions)\n",
        "plt.xlabel('True values (expenses)')\n",
        "plt.ylabel('Predictions (expenses)')\n",
        "lims = [0, 50000]\n",
        "plt.xlim(lims)\n",
        "plt.ylim(lims)\n",
        "_ = plt.plot(lims,lims)\n"
      ]
    }
  ],
  "metadata": {
    "colab": {
      "private_outputs": true,
      "provenance": []
    },
    "kernelspec": {
      "display_name": "Python 3",
      "name": "python3"
    }
  },
  "nbformat": 4,
  "nbformat_minor": 0
}